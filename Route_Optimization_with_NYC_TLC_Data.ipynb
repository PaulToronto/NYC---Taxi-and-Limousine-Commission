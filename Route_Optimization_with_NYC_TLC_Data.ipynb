{
  "nbformat": 4,
  "nbformat_minor": 0,
  "metadata": {
    "colab": {
      "provenance": [],
      "toc_visible": true,
      "machine_shape": "hm",
      "authorship_tag": "ABX9TyPEXHuvDFySM2Jh8z0btmJM",
      "include_colab_link": true
    },
    "kernelspec": {
      "name": "python3",
      "display_name": "Python 3"
    },
    "language_info": {
      "name": "python"
    }
  },
  "cells": [
    {
      "cell_type": "markdown",
      "metadata": {
        "id": "view-in-github",
        "colab_type": "text"
      },
      "source": [
        "<a href=\"https://colab.research.google.com/github/PaulToronto/NYC---Taxi-and-Limousine-Commission/blob/main/Route_Optimization_with_NYC_TLC_Data.ipynb\" target=\"_parent\"><img src=\"https://colab.research.google.com/assets/colab-badge.svg\" alt=\"Open In Colab\"/></a>"
      ]
    },
    {
      "cell_type": "markdown",
      "source": [
        "# Route Optimization with NYC TLC Data"
      ],
      "metadata": {
        "id": "7ytFBvZITdxZ"
      }
    },
    {
      "cell_type": "markdown",
      "source": [
        "## Imports"
      ],
      "metadata": {
        "id": "Trp_p131c8Yt"
      }
    },
    {
      "cell_type": "code",
      "source": [
        "import pandas as pd\n",
        "import geopandas as gpd\n",
        "import numpy as np\n",
        "import gdown"
      ],
      "metadata": {
        "id": "OAawMW64c96r"
      },
      "execution_count": 1,
      "outputs": []
    },
    {
      "cell_type": "markdown",
      "source": [
        "## Functions"
      ],
      "metadata": {
        "id": "gqfHa9ayfgE_"
      }
    },
    {
      "cell_type": "code",
      "source": [
        "get_data_url = lambda id: rf'https://drive.google.com/uc?id={id}'\n",
        "gdown_download = lambda id, file_name: gdown.download(get_data_url(id), file_name, quiet=False)\n",
        "\n",
        "def euclidean_distance_miles(pickup_lon, dropoff_lon, pickup_lat, dropoff_lat):\n",
        "    distance_feet = np.sqrt((pickup_lon - dropoff_lon)**2 + (pickup_lat - dropoff_lat)**2)\n",
        "    distance_miles = distance_feet / 5280\n",
        "    return distance_miles"
      ],
      "metadata": {
        "id": "X2_qG8-VfhVW"
      },
      "execution_count": 2,
      "outputs": []
    },
    {
      "cell_type": "markdown",
      "source": [
        "## High Volume For-Hire Vehicle Trips and Taxi Zones Datasets\n",
        "\n",
        "- Includes Uber and Lyft trips"
      ],
      "metadata": {
        "id": "DD_6yIVIcqHY"
      }
    },
    {
      "cell_type": "markdown",
      "source": [
        "### Trips"
      ],
      "metadata": {
        "id": "XPXR_46zrWaA"
      }
    },
    {
      "cell_type": "code",
      "execution_count": 3,
      "metadata": {
        "colab": {
          "base_uri": "https://localhost:8080/",
          "height": 145
        },
        "id": "nxv8hxL7TZEs",
        "outputId": "2e890efe-1ff7-4dc6-bd08-8cc6e0330317"
      },
      "outputs": [
        {
          "output_type": "stream",
          "name": "stderr",
          "text": [
            "Downloading...\n",
            "From (original): https://drive.google.com/uc?id=1rEgVTd1wkF7R5jScMqwAIaX9Fm4w-JzO\n",
            "From (redirected): https://drive.google.com/uc?id=1rEgVTd1wkF7R5jScMqwAIaX9Fm4w-JzO&confirm=t&uuid=5bfed70f-7144-4bd8-b4d1-f10653ae50f3\n",
            "To: /content/fhv_hv_july_2024.parquet\n",
            "100%|██████████| 468M/468M [00:02<00:00, 167MB/s]\n"
          ]
        },
        {
          "output_type": "execute_result",
          "data": {
            "text/plain": [
              "'fhv_hv_july_2024.parquet'"
            ],
            "application/vnd.google.colaboratory.intrinsic+json": {
              "type": "string"
            }
          },
          "metadata": {},
          "execution_count": 3
        }
      ],
      "source": [
        "id = '1rEgVTd1wkF7R5jScMqwAIaX9Fm4w-JzO'\n",
        "file_name = 'fhv_hv_july_2024.parquet'\n",
        "gdown_download(id, file_name)"
      ]
    },
    {
      "cell_type": "code",
      "source": [
        "trips = pd.read_parquet(file_name)"
      ],
      "metadata": {
        "id": "mRn0trKtfsmz"
      },
      "execution_count": 4,
      "outputs": []
    },
    {
      "cell_type": "code",
      "source": [
        "trips['pickup_hour'] = trips['pickup_datetime'].dt.hour\n",
        "trips['dropoff_hour'] = trips['dropoff_datetime'].dt.hour"
      ],
      "metadata": {
        "id": "Y3FuEglgr79m"
      },
      "execution_count": 5,
      "outputs": []
    },
    {
      "cell_type": "markdown",
      "source": [
        "### Zones"
      ],
      "metadata": {
        "id": "TKiRAH0zriz9"
      }
    },
    {
      "cell_type": "code",
      "source": [
        "id='1fGdhMuUlq3ZdGlBt8I4w5kIeXiovIBzS'\n",
        "file_name = 'taxi_zones.zip'\n",
        "gdown_download(id, file_name)"
      ],
      "metadata": {
        "colab": {
          "base_uri": "https://localhost:8080/",
          "height": 107
        },
        "id": "2QtewZ8ztAvi",
        "outputId": "67781b7b-875b-41b0-d654-302e94cf56ff"
      },
      "execution_count": 6,
      "outputs": [
        {
          "output_type": "stream",
          "name": "stderr",
          "text": [
            "Downloading...\n",
            "From: https://drive.google.com/uc?id=1fGdhMuUlq3ZdGlBt8I4w5kIeXiovIBzS\n",
            "To: /content/taxi_zones.zip\n",
            "100%|██████████| 1.03M/1.03M [00:00<00:00, 180MB/s]\n"
          ]
        },
        {
          "output_type": "execute_result",
          "data": {
            "text/plain": [
              "'taxi_zones.zip'"
            ],
            "application/vnd.google.colaboratory.intrinsic+json": {
              "type": "string"
            }
          },
          "metadata": {},
          "execution_count": 6
        }
      ]
    },
    {
      "cell_type": "code",
      "source": [
        "# zone has multiple rows for\n",
        "#. - Governor's Island/Ellis Island/Liberty Island\n",
        "#. - Corona\n",
        "# I'll figure out why later\n",
        "zones = gpd.read_file(file_name)"
      ],
      "metadata": {
        "id": "e89dWiXgtxgi"
      },
      "execution_count": 7,
      "outputs": []
    },
    {
      "cell_type": "code",
      "source": [
        "# create a centroid lon and lat\n",
        "zones['centroid_lon'] = zones['geometry'].centroid.x\n",
        "zones['centroid_lat'] = zones['geometry'].centroid.y\n",
        "\n",
        "zones.info()"
      ],
      "metadata": {
        "colab": {
          "base_uri": "https://localhost:8080/"
        },
        "id": "IWSDqoNmrOsL",
        "outputId": "71f453a4-6d51-4344-9e3e-69b8c3fa9877"
      },
      "execution_count": 8,
      "outputs": [
        {
          "output_type": "stream",
          "name": "stdout",
          "text": [
            "<class 'geopandas.geodataframe.GeoDataFrame'>\n",
            "RangeIndex: 263 entries, 0 to 262\n",
            "Data columns (total 9 columns):\n",
            " #   Column        Non-Null Count  Dtype   \n",
            "---  ------        --------------  -----   \n",
            " 0   OBJECTID      263 non-null    int32   \n",
            " 1   Shape_Leng    263 non-null    float64 \n",
            " 2   Shape_Area    263 non-null    float64 \n",
            " 3   zone          263 non-null    object  \n",
            " 4   LocationID    263 non-null    int32   \n",
            " 5   borough       263 non-null    object  \n",
            " 6   geometry      263 non-null    geometry\n",
            " 7   centroid_lon  263 non-null    float64 \n",
            " 8   centroid_lat  263 non-null    float64 \n",
            "dtypes: float64(4), geometry(1), int32(2), object(2)\n",
            "memory usage: 16.6+ KB\n"
          ]
        }
      ]
    },
    {
      "cell_type": "code",
      "source": [
        "zones[zones.LocationID.duplicated()]"
      ],
      "metadata": {
        "colab": {
          "base_uri": "https://localhost:8080/",
          "height": 230
        },
        "id": "BNFCPXDpG7nJ",
        "outputId": "b710a8f8-6ff4-46ef-c3ad-5a29649ef928"
      },
      "execution_count": 9,
      "outputs": [
        {
          "output_type": "execute_result",
          "data": {
            "text/plain": [
              "     OBJECTID  Shape_Leng  Shape_Area  \\\n",
              "56         57    0.019271    0.000018   \n",
              "103       104    0.021221    0.000012   \n",
              "104       105    0.077425    0.000369   \n",
              "\n",
              "                                              zone  LocationID    borough  \\\n",
              "56                                          Corona          56     Queens   \n",
              "103  Governor's Island/Ellis Island/Liberty Island         103  Manhattan   \n",
              "104  Governor's Island/Ellis Island/Liberty Island         103  Manhattan   \n",
              "\n",
              "                                              geometry  centroid_lon  \\\n",
              "56   POLYGON ((1025447.751 212499.788, 1024585.351 ...  1.024817e+06   \n",
              "103  POLYGON ((973172.666 194632.348, 973310.63 194...  9.729448e+05   \n",
              "104  POLYGON ((979605.759 191880.575, 979978.435 19...  9.789606e+05   \n",
              "\n",
              "      centroid_lat  \n",
              "56   213218.634924  \n",
              "103  193859.360777  \n",
              "104  190219.673877  "
            ],
            "text/html": [
              "\n",
              "  <div id=\"df-5e255cf3-ec1e-4ee5-80b7-f951892a1a54\" class=\"colab-df-container\">\n",
              "    <div>\n",
              "<style scoped>\n",
              "    .dataframe tbody tr th:only-of-type {\n",
              "        vertical-align: middle;\n",
              "    }\n",
              "\n",
              "    .dataframe tbody tr th {\n",
              "        vertical-align: top;\n",
              "    }\n",
              "\n",
              "    .dataframe thead th {\n",
              "        text-align: right;\n",
              "    }\n",
              "</style>\n",
              "<table border=\"1\" class=\"dataframe\">\n",
              "  <thead>\n",
              "    <tr style=\"text-align: right;\">\n",
              "      <th></th>\n",
              "      <th>OBJECTID</th>\n",
              "      <th>Shape_Leng</th>\n",
              "      <th>Shape_Area</th>\n",
              "      <th>zone</th>\n",
              "      <th>LocationID</th>\n",
              "      <th>borough</th>\n",
              "      <th>geometry</th>\n",
              "      <th>centroid_lon</th>\n",
              "      <th>centroid_lat</th>\n",
              "    </tr>\n",
              "  </thead>\n",
              "  <tbody>\n",
              "    <tr>\n",
              "      <th>56</th>\n",
              "      <td>57</td>\n",
              "      <td>0.019271</td>\n",
              "      <td>0.000018</td>\n",
              "      <td>Corona</td>\n",
              "      <td>56</td>\n",
              "      <td>Queens</td>\n",
              "      <td>POLYGON ((1025447.751 212499.788, 1024585.351 ...</td>\n",
              "      <td>1.024817e+06</td>\n",
              "      <td>213218.634924</td>\n",
              "    </tr>\n",
              "    <tr>\n",
              "      <th>103</th>\n",
              "      <td>104</td>\n",
              "      <td>0.021221</td>\n",
              "      <td>0.000012</td>\n",
              "      <td>Governor's Island/Ellis Island/Liberty Island</td>\n",
              "      <td>103</td>\n",
              "      <td>Manhattan</td>\n",
              "      <td>POLYGON ((973172.666 194632.348, 973310.63 194...</td>\n",
              "      <td>9.729448e+05</td>\n",
              "      <td>193859.360777</td>\n",
              "    </tr>\n",
              "    <tr>\n",
              "      <th>104</th>\n",
              "      <td>105</td>\n",
              "      <td>0.077425</td>\n",
              "      <td>0.000369</td>\n",
              "      <td>Governor's Island/Ellis Island/Liberty Island</td>\n",
              "      <td>103</td>\n",
              "      <td>Manhattan</td>\n",
              "      <td>POLYGON ((979605.759 191880.575, 979978.435 19...</td>\n",
              "      <td>9.789606e+05</td>\n",
              "      <td>190219.673877</td>\n",
              "    </tr>\n",
              "  </tbody>\n",
              "</table>\n",
              "</div>\n",
              "    <div class=\"colab-df-buttons\">\n",
              "\n",
              "  <div class=\"colab-df-container\">\n",
              "    <button class=\"colab-df-convert\" onclick=\"convertToInteractive('df-5e255cf3-ec1e-4ee5-80b7-f951892a1a54')\"\n",
              "            title=\"Convert this dataframe to an interactive table.\"\n",
              "            style=\"display:none;\">\n",
              "\n",
              "  <svg xmlns=\"http://www.w3.org/2000/svg\" height=\"24px\" viewBox=\"0 -960 960 960\">\n",
              "    <path d=\"M120-120v-720h720v720H120Zm60-500h600v-160H180v160Zm220 220h160v-160H400v160Zm0 220h160v-160H400v160ZM180-400h160v-160H180v160Zm440 0h160v-160H620v160ZM180-180h160v-160H180v160Zm440 0h160v-160H620v160Z\"/>\n",
              "  </svg>\n",
              "    </button>\n",
              "\n",
              "  <style>\n",
              "    .colab-df-container {\n",
              "      display:flex;\n",
              "      gap: 12px;\n",
              "    }\n",
              "\n",
              "    .colab-df-convert {\n",
              "      background-color: #E8F0FE;\n",
              "      border: none;\n",
              "      border-radius: 50%;\n",
              "      cursor: pointer;\n",
              "      display: none;\n",
              "      fill: #1967D2;\n",
              "      height: 32px;\n",
              "      padding: 0 0 0 0;\n",
              "      width: 32px;\n",
              "    }\n",
              "\n",
              "    .colab-df-convert:hover {\n",
              "      background-color: #E2EBFA;\n",
              "      box-shadow: 0px 1px 2px rgba(60, 64, 67, 0.3), 0px 1px 3px 1px rgba(60, 64, 67, 0.15);\n",
              "      fill: #174EA6;\n",
              "    }\n",
              "\n",
              "    .colab-df-buttons div {\n",
              "      margin-bottom: 4px;\n",
              "    }\n",
              "\n",
              "    [theme=dark] .colab-df-convert {\n",
              "      background-color: #3B4455;\n",
              "      fill: #D2E3FC;\n",
              "    }\n",
              "\n",
              "    [theme=dark] .colab-df-convert:hover {\n",
              "      background-color: #434B5C;\n",
              "      box-shadow: 0px 1px 3px 1px rgba(0, 0, 0, 0.15);\n",
              "      filter: drop-shadow(0px 1px 2px rgba(0, 0, 0, 0.3));\n",
              "      fill: #FFFFFF;\n",
              "    }\n",
              "  </style>\n",
              "\n",
              "    <script>\n",
              "      const buttonEl =\n",
              "        document.querySelector('#df-5e255cf3-ec1e-4ee5-80b7-f951892a1a54 button.colab-df-convert');\n",
              "      buttonEl.style.display =\n",
              "        google.colab.kernel.accessAllowed ? 'block' : 'none';\n",
              "\n",
              "      async function convertToInteractive(key) {\n",
              "        const element = document.querySelector('#df-5e255cf3-ec1e-4ee5-80b7-f951892a1a54');\n",
              "        const dataTable =\n",
              "          await google.colab.kernel.invokeFunction('convertToInteractive',\n",
              "                                                    [key], {});\n",
              "        if (!dataTable) return;\n",
              "\n",
              "        const docLinkHtml = 'Like what you see? Visit the ' +\n",
              "          '<a target=\"_blank\" href=https://colab.research.google.com/notebooks/data_table.ipynb>data table notebook</a>'\n",
              "          + ' to learn more about interactive tables.';\n",
              "        element.innerHTML = '';\n",
              "        dataTable['output_type'] = 'display_data';\n",
              "        await google.colab.output.renderOutput(dataTable, element);\n",
              "        const docLink = document.createElement('div');\n",
              "        docLink.innerHTML = docLinkHtml;\n",
              "        element.appendChild(docLink);\n",
              "      }\n",
              "    </script>\n",
              "  </div>\n",
              "\n",
              "\n",
              "<div id=\"df-e50a7e58-33a7-4e86-bc38-a060bbada1a1\">\n",
              "  <button class=\"colab-df-quickchart\" onclick=\"quickchart('df-e50a7e58-33a7-4e86-bc38-a060bbada1a1')\"\n",
              "            title=\"Suggest charts\"\n",
              "            style=\"display:none;\">\n",
              "\n",
              "<svg xmlns=\"http://www.w3.org/2000/svg\" height=\"24px\"viewBox=\"0 0 24 24\"\n",
              "     width=\"24px\">\n",
              "    <g>\n",
              "        <path d=\"M19 3H5c-1.1 0-2 .9-2 2v14c0 1.1.9 2 2 2h14c1.1 0 2-.9 2-2V5c0-1.1-.9-2-2-2zM9 17H7v-7h2v7zm4 0h-2V7h2v10zm4 0h-2v-4h2v4z\"/>\n",
              "    </g>\n",
              "</svg>\n",
              "  </button>\n",
              "\n",
              "<style>\n",
              "  .colab-df-quickchart {\n",
              "      --bg-color: #E8F0FE;\n",
              "      --fill-color: #1967D2;\n",
              "      --hover-bg-color: #E2EBFA;\n",
              "      --hover-fill-color: #174EA6;\n",
              "      --disabled-fill-color: #AAA;\n",
              "      --disabled-bg-color: #DDD;\n",
              "  }\n",
              "\n",
              "  [theme=dark] .colab-df-quickchart {\n",
              "      --bg-color: #3B4455;\n",
              "      --fill-color: #D2E3FC;\n",
              "      --hover-bg-color: #434B5C;\n",
              "      --hover-fill-color: #FFFFFF;\n",
              "      --disabled-bg-color: #3B4455;\n",
              "      --disabled-fill-color: #666;\n",
              "  }\n",
              "\n",
              "  .colab-df-quickchart {\n",
              "    background-color: var(--bg-color);\n",
              "    border: none;\n",
              "    border-radius: 50%;\n",
              "    cursor: pointer;\n",
              "    display: none;\n",
              "    fill: var(--fill-color);\n",
              "    height: 32px;\n",
              "    padding: 0;\n",
              "    width: 32px;\n",
              "  }\n",
              "\n",
              "  .colab-df-quickchart:hover {\n",
              "    background-color: var(--hover-bg-color);\n",
              "    box-shadow: 0 1px 2px rgba(60, 64, 67, 0.3), 0 1px 3px 1px rgba(60, 64, 67, 0.15);\n",
              "    fill: var(--button-hover-fill-color);\n",
              "  }\n",
              "\n",
              "  .colab-df-quickchart-complete:disabled,\n",
              "  .colab-df-quickchart-complete:disabled:hover {\n",
              "    background-color: var(--disabled-bg-color);\n",
              "    fill: var(--disabled-fill-color);\n",
              "    box-shadow: none;\n",
              "  }\n",
              "\n",
              "  .colab-df-spinner {\n",
              "    border: 2px solid var(--fill-color);\n",
              "    border-color: transparent;\n",
              "    border-bottom-color: var(--fill-color);\n",
              "    animation:\n",
              "      spin 1s steps(1) infinite;\n",
              "  }\n",
              "\n",
              "  @keyframes spin {\n",
              "    0% {\n",
              "      border-color: transparent;\n",
              "      border-bottom-color: var(--fill-color);\n",
              "      border-left-color: var(--fill-color);\n",
              "    }\n",
              "    20% {\n",
              "      border-color: transparent;\n",
              "      border-left-color: var(--fill-color);\n",
              "      border-top-color: var(--fill-color);\n",
              "    }\n",
              "    30% {\n",
              "      border-color: transparent;\n",
              "      border-left-color: var(--fill-color);\n",
              "      border-top-color: var(--fill-color);\n",
              "      border-right-color: var(--fill-color);\n",
              "    }\n",
              "    40% {\n",
              "      border-color: transparent;\n",
              "      border-right-color: var(--fill-color);\n",
              "      border-top-color: var(--fill-color);\n",
              "    }\n",
              "    60% {\n",
              "      border-color: transparent;\n",
              "      border-right-color: var(--fill-color);\n",
              "    }\n",
              "    80% {\n",
              "      border-color: transparent;\n",
              "      border-right-color: var(--fill-color);\n",
              "      border-bottom-color: var(--fill-color);\n",
              "    }\n",
              "    90% {\n",
              "      border-color: transparent;\n",
              "      border-bottom-color: var(--fill-color);\n",
              "    }\n",
              "  }\n",
              "</style>\n",
              "\n",
              "  <script>\n",
              "    async function quickchart(key) {\n",
              "      const quickchartButtonEl =\n",
              "        document.querySelector('#' + key + ' button');\n",
              "      quickchartButtonEl.disabled = true;  // To prevent multiple clicks.\n",
              "      quickchartButtonEl.classList.add('colab-df-spinner');\n",
              "      try {\n",
              "        const charts = await google.colab.kernel.invokeFunction(\n",
              "            'suggestCharts', [key], {});\n",
              "      } catch (error) {\n",
              "        console.error('Error during call to suggestCharts:', error);\n",
              "      }\n",
              "      quickchartButtonEl.classList.remove('colab-df-spinner');\n",
              "      quickchartButtonEl.classList.add('colab-df-quickchart-complete');\n",
              "    }\n",
              "    (() => {\n",
              "      let quickchartButtonEl =\n",
              "        document.querySelector('#df-e50a7e58-33a7-4e86-bc38-a060bbada1a1 button');\n",
              "      quickchartButtonEl.style.display =\n",
              "        google.colab.kernel.accessAllowed ? 'block' : 'none';\n",
              "    })();\n",
              "  </script>\n",
              "</div>\n",
              "\n",
              "    </div>\n",
              "  </div>\n"
            ],
            "application/vnd.google.colaboratory.intrinsic+json": {
              "type": "dataframe",
              "summary": "{\n  \"name\": \"zones[zones\",\n  \"rows\": 3,\n  \"fields\": [\n    {\n      \"column\": \"OBJECTID\",\n      \"properties\": {\n        \"dtype\": \"int32\",\n        \"num_unique_values\": 3,\n        \"samples\": [\n          57,\n          104,\n          105\n        ],\n        \"semantic_type\": \"\",\n        \"description\": \"\"\n      }\n    },\n    {\n      \"column\": \"Shape_Leng\",\n      \"properties\": {\n        \"dtype\": \"number\",\n        \"std\": 0.03302709793743279,\n        \"min\": 0.0192705048557,\n        \"max\": 0.0774253398314,\n        \"num_unique_values\": 3,\n        \"samples\": [\n          0.0192705048557,\n          0.0212208330928,\n          0.0774253398314\n        ],\n        \"semantic_type\": \"\",\n        \"description\": \"\"\n      }\n    },\n    {\n      \"column\": \"Shape_Area\",\n      \"properties\": {\n        \"dtype\": \"number\",\n        \"std\": 0.00020421032517004445,\n        \"min\": 1.19205339715e-05,\n        \"max\": 0.000368636392805,\n        \"num_unique_values\": 3,\n        \"samples\": [\n          1.80259807917e-05,\n          1.19205339715e-05,\n          0.000368636392805\n        ],\n        \"semantic_type\": \"\",\n        \"description\": \"\"\n      }\n    },\n    {\n      \"column\": \"zone\",\n      \"properties\": {\n        \"dtype\": \"string\",\n        \"num_unique_values\": 2,\n        \"samples\": [\n          \"Governor's Island/Ellis Island/Liberty Island\",\n          \"Corona\"\n        ],\n        \"semantic_type\": \"\",\n        \"description\": \"\"\n      }\n    },\n    {\n      \"column\": \"LocationID\",\n      \"properties\": {\n        \"dtype\": \"int32\",\n        \"num_unique_values\": 2,\n        \"samples\": [\n          103,\n          56\n        ],\n        \"semantic_type\": \"\",\n        \"description\": \"\"\n      }\n    },\n    {\n      \"column\": \"borough\",\n      \"properties\": {\n        \"dtype\": \"string\",\n        \"num_unique_values\": 2,\n        \"samples\": [\n          \"Manhattan\",\n          \"Queens\"\n        ],\n        \"semantic_type\": \"\",\n        \"description\": \"\"\n      }\n    },\n    {\n      \"column\": \"geometry\",\n      \"properties\": {\n        \"dtype\": \"geometry\",\n        \"num_unique_values\": 3,\n        \"samples\": [\n          \"POLYGON ((1025447.7511662245 212499.78833641112, 1024585.3510684371 212137.0492990762, 1024573.0054995269 212168.95234192908, 1024483.2024182975 212396.10427625477, 1024386.8182260394 212637.55702997744, 1024292.3201133013 212879.62355528772, 1024193.2586952895 213129.4064488262, 1024547.5133066624 213270.1315791458, 1024430.0693943799 213568.79836039245, 1024316.6147443354 213856.0122347772, 1024201.4970002323 214161.3039521575, 1024481.9130771607 214270.30962643027, 1024746.4826652557 214362.15642893314, 1024910.7640494704 214412.44091701508, 1024941.5620956868 214417.4992003888, 1024970.9957797378 214238.5368373245, 1024974.7961153239 214215.43102367222, 1025083.6538597345 213796.81322292984, 1025126.4793050438 213695.72609835863, 1025198.466702506 213525.80345652997, 1025295.4103791863 213273.57599300146, 1025334.666075781 213171.4401319772, 1025389.281744346 213029.34192866087, 1025483.1588978171 212785.09186263382, 1025537.3151583523 212644.18787780404, 1025571.4122591913 212555.4740447104, 1025447.7511662245 212499.78833641112))\",\n          \"POLYGON ((973172.6661827862 194632.34808847308, 973310.6302064657 194502.0484330058, 973330.0048478991 194518.26491236687, 973793.291377157 194068.60412365198, 973686.0414023101 193957.6993573606, 973649.4212664962 193713.28148908913, 973435.6619568467 193713.8489278108, 973341.3597608209 193621.2144473493, 973177.1806487143 193777.55255925655, 973087.7078930587 193872.46533709764, 972814.1336506009 194139.25211800635, 972674.0187545419 193997.63887292147, 973182.6509629935 193470.64531315863, 972697.7226157635 193015.79828432202, 972139.757855162 193587.13232508302, 972149.9810335487 193597.2657724619, 972144.5355311483 193603.0463707149, 972408.7985988408 193871.248306185, 972336.436439544 193943.69854922593, 972854.2274683714 194487.60613015294, 972936.764651522 194405.81440544128, 973072.2194317877 194535.8899795711, 973050.4537741542 194558.3525620401, 973044.699348256 194555.11557899415, 973010.1720416844 194592.8798636645, 973025.6373697519 194606.9066772759, 973061.9630552232 194568.78265565634, 973057.6472182274 194564.46664190292, 973078.9940710813 194542.39530056715, 973172.6661827862 194632.34808847308))\"\n        ],\n        \"semantic_type\": \"\",\n        \"description\": \"\"\n      }\n    },\n    {\n      \"column\": \"centroid_lon\",\n      \"properties\": {\n        \"dtype\": \"number\",\n        \"std\": 28371.96929454994,\n        \"min\": 972944.834560436,\n        \"max\": 1024817.4538048006,\n        \"num_unique_values\": 3,\n        \"samples\": [\n          1024817.4538048006,\n          972944.834560436\n        ],\n        \"semantic_type\": \"\",\n        \"description\": \"\"\n      }\n    },\n    {\n      \"column\": \"centroid_lat\",\n      \"properties\": {\n        \"dtype\": \"number\",\n        \"std\": 12362.45003701603,\n        \"min\": 190219.67387671873,\n        \"max\": 213218.63492433997,\n        \"num_unique_values\": 3,\n        \"samples\": [\n          213218.63492433997,\n          193859.36077724295\n        ],\n        \"semantic_type\": \"\",\n        \"description\": \"\"\n      }\n    }\n  ]\n}"
            }
          },
          "metadata": {},
          "execution_count": 9
        }
      ]
    },
    {
      "cell_type": "markdown",
      "source": [
        "## Joined Data"
      ],
      "metadata": {
        "id": "VClavCqeurH6"
      }
    },
    {
      "cell_type": "code",
      "source": [
        "trips.info()"
      ],
      "metadata": {
        "colab": {
          "base_uri": "https://localhost:8080/"
        },
        "id": "MI766LXwO80a",
        "outputId": "3b758695-41c4-465e-f0ba-6b0b57c10dff"
      },
      "execution_count": 10,
      "outputs": [
        {
          "output_type": "stream",
          "name": "stdout",
          "text": [
            "<class 'pandas.core.frame.DataFrame'>\n",
            "RangeIndex: 19182934 entries, 0 to 19182933\n",
            "Data columns (total 26 columns):\n",
            " #   Column                Dtype         \n",
            "---  ------                -----         \n",
            " 0   hvfhs_license_num     object        \n",
            " 1   dispatching_base_num  object        \n",
            " 2   originating_base_num  object        \n",
            " 3   request_datetime      datetime64[us]\n",
            " 4   on_scene_datetime     datetime64[us]\n",
            " 5   pickup_datetime       datetime64[us]\n",
            " 6   dropoff_datetime      datetime64[us]\n",
            " 7   PULocationID          int32         \n",
            " 8   DOLocationID          int32         \n",
            " 9   trip_miles            float64       \n",
            " 10  trip_time             int64         \n",
            " 11  base_passenger_fare   float64       \n",
            " 12  tolls                 float64       \n",
            " 13  bcf                   float64       \n",
            " 14  sales_tax             float64       \n",
            " 15  congestion_surcharge  float64       \n",
            " 16  airport_fee           float64       \n",
            " 17  tips                  float64       \n",
            " 18  driver_pay            float64       \n",
            " 19  shared_request_flag   object        \n",
            " 20  shared_match_flag     object        \n",
            " 21  access_a_ride_flag    object        \n",
            " 22  wav_request_flag      object        \n",
            " 23  wav_match_flag        object        \n",
            " 24  pickup_hour           int32         \n",
            " 25  dropoff_hour          int32         \n",
            "dtypes: datetime64[us](4), float64(9), int32(4), int64(1), object(8)\n",
            "memory usage: 3.4+ GB\n"
          ]
        }
      ]
    },
    {
      "cell_type": "code",
      "source": [
        "zones_PU = zones.add_suffix('_PU').rename(columns={'LocationID_PU': 'PULocationID'})\n",
        "zones_PU = gpd.GeoDataFrame(zones_PU, geometry='geometry_PU', crs=zones.crs)\n",
        "\n",
        "zones_DO = zones.add_suffix('_DO').rename(columns={'LocationID_DO': 'DOLocationID'})\n",
        "zones_DO = gpd.GeoDataFrame(zones_DO, geometry='geometry_DO', crs=zones.crs)\n",
        "\n",
        "del zones\n",
        "\n",
        "trips = trips.merge(\n",
        "    zones_PU, on='PULocationID', how='inner'\n",
        ").merge(\n",
        "    zones_DO, on='DOLocationID', how='inner'\n",
        ")\n",
        "\n",
        "trips = gpd.GeoDataFrame(trips, geometry='geometry_PU', crs=zones_PU.crs)"
      ],
      "metadata": {
        "id": "ZJRAsXpP4Xja"
      },
      "execution_count": 11,
      "outputs": []
    },
    {
      "cell_type": "code",
      "source": [
        "trips.info()"
      ],
      "metadata": {
        "colab": {
          "base_uri": "https://localhost:8080/"
        },
        "id": "ujSdlVjdPsZs",
        "outputId": "332ad58f-fda5-4266-9765-ff0309591a36"
      },
      "execution_count": 12,
      "outputs": [
        {
          "output_type": "stream",
          "name": "stdout",
          "text": [
            "<class 'geopandas.geodataframe.GeoDataFrame'>\n",
            "RangeIndex: 18475615 entries, 0 to 18475614\n",
            "Data columns (total 42 columns):\n",
            " #   Column                Dtype         \n",
            "---  ------                -----         \n",
            " 0   hvfhs_license_num     object        \n",
            " 1   dispatching_base_num  object        \n",
            " 2   originating_base_num  object        \n",
            " 3   request_datetime      datetime64[us]\n",
            " 4   on_scene_datetime     datetime64[us]\n",
            " 5   pickup_datetime       datetime64[us]\n",
            " 6   dropoff_datetime      datetime64[us]\n",
            " 7   PULocationID          int32         \n",
            " 8   DOLocationID          int32         \n",
            " 9   trip_miles            float64       \n",
            " 10  trip_time             int64         \n",
            " 11  base_passenger_fare   float64       \n",
            " 12  tolls                 float64       \n",
            " 13  bcf                   float64       \n",
            " 14  sales_tax             float64       \n",
            " 15  congestion_surcharge  float64       \n",
            " 16  airport_fee           float64       \n",
            " 17  tips                  float64       \n",
            " 18  driver_pay            float64       \n",
            " 19  shared_request_flag   object        \n",
            " 20  shared_match_flag     object        \n",
            " 21  access_a_ride_flag    object        \n",
            " 22  wav_request_flag      object        \n",
            " 23  wav_match_flag        object        \n",
            " 24  pickup_hour           int32         \n",
            " 25  dropoff_hour          int32         \n",
            " 26  OBJECTID_PU           int32         \n",
            " 27  Shape_Leng_PU         float64       \n",
            " 28  Shape_Area_PU         float64       \n",
            " 29  zone_PU               object        \n",
            " 30  borough_PU            object        \n",
            " 31  geometry_PU           geometry      \n",
            " 32  centroid_lon_PU       float64       \n",
            " 33  centroid_lat_PU       float64       \n",
            " 34  OBJECTID_DO           int32         \n",
            " 35  Shape_Leng_DO         float64       \n",
            " 36  Shape_Area_DO         float64       \n",
            " 37  zone_DO               object        \n",
            " 38  borough_DO            object        \n",
            " 39  geometry_DO           geometry      \n",
            " 40  centroid_lon_DO       float64       \n",
            " 41  centroid_lat_DO       float64       \n",
            "dtypes: datetime64[us](4), float64(17), geometry(2), int32(6), int64(1), object(12)\n",
            "memory usage: 5.4+ GB\n"
          ]
        }
      ]
    },
    {
      "cell_type": "code",
      "source": [
        "# use trips.set_geometry() to set\n",
        "#. geometry to `geometry_DO` as needed\n",
        "trips.active_geometry_name"
      ],
      "metadata": {
        "colab": {
          "base_uri": "https://localhost:8080/",
          "height": 35
        },
        "id": "lBOwSLilRp4V",
        "outputId": "16a620a6-62f2-4b76-a626-856947a30b71"
      },
      "execution_count": 13,
      "outputs": [
        {
          "output_type": "execute_result",
          "data": {
            "text/plain": [
              "'geometry_PU'"
            ],
            "application/vnd.google.colaboratory.intrinsic+json": {
              "type": "string"
            }
          },
          "metadata": {},
          "execution_count": 13
        }
      ]
    },
    {
      "cell_type": "markdown",
      "source": [
        "### Attributes of Joined Data\n",
        "\n",
        "1. **`hvfhs_license_num`**: The TLC license number of the HVFHS base or business. As of September 2019, the HVFHS licensees are the following:\n",
        " - HV0002: Juno\n",
        " - HV0003: Uber\n",
        " - HV0004: Via\n",
        " - HV0005: Lyft\n",
        "2. **`dispatching_base_num`**: The TLC Base License Number of the base that dispatched the trip\n",
        "3. **`originating_base_num`**: Base number of the base that received the original trip request\n",
        "4. **`request_datetime`**: Date/time when passenger requested to be picked up\n",
        "5. **`on_scene_datetime`**: Date/time when driver arrived at the pick-up location (Accessible\n",
        "Vehicles-only)\n",
        "6. **`pickup_datetime`**: The date and time of the trip pick-up\n",
        "7. **`dropoff_datetime`**: The date and time of the trip drop-off\n",
        "8. **`PULocationID`**: The date and time of the trip pick-up\n",
        "9. **`DOLocationID`**: The date and time of the trip drop-off\n",
        "10. **`trip_miles`**: Total miles for passenger trip\n",
        "11. **`trip_time`**: Total time in seconds for passenger trip\n",
        "12. **`base_passenger_fare`**: Base passenger fare before tolls, tips, taxes, and fees\n",
        "13. **`tolls`**: Total amount of all tolls paid in trip\n",
        "14. **`sales_tax`**: Total amount collected in trip for NYS sales tax\n",
        "15. **`congestion_surcharge`**: Total amount collected in trip for NYS congestion surcharge\n",
        "16. **`airport_fee`**: $2.50 for both drop off and pick up at LaGuardia, Newark, and John F. Kennedy airports\n",
        "17. **`tips`**: Total amount of tips received from passenger\n",
        "18. **`driver_pay`**: Total driver pay (not including tolls or tips and net of commission surcharges, or taxes)\n",
        "19. **`shared_request_flag`**: Did the passenger agree to a shared/pooled ride, regardless of whether they were matched? (Y/N)\n",
        "20. **`shared_match_flag`**: Did the passenger share the vehicle with another passenger who booked separately at any point during the trip? (Y/N)\n",
        "21. **`access_a_ride_flag`**: Was the trip administered on behalf of the Metropolitan Transportation Authority (MTA)? (Y/N)\n",
        "22. **`wav_request_flag`**: Did the passenger request a wheelchair-accessible vehicle (WAV)? (Y/N)\n",
        "23. **`wav_match_flag`**: Did the trip occur in a wheelchair-accessible vehicle (WAV)? (Y/N)\n",
        "24. **`pickup_hour`, `dropoff_hour`**: Created from `pickup_datetime` and `dropoff_datetime`\n",
        "25. **`Shape_Leng_PU`, `Shape_Leng_DO'`**: Length of the geometry\n",
        "26. **`Shape_Area_PU`, `Shape_Area_DO`**: Area of the geometry\n",
        "27. **`zone_PU`, `zone_DO`**: Name of zone\n",
        "28. **`borough_PU`, `borough_DO`**: Name of borough\n",
        "29. **`geometry_PU`, `geometry_DO`**: geometry\n",
        "30. **`centroid_lon_PU`, `centroid_lon_DO`**: Longitude of the centroid\n",
        "31. **`centroid_lat_PU`, `centroid_lat_DO`**: Latitude of the centroid"
      ],
      "metadata": {
        "id": "fLTXVHM2gkQn"
      }
    },
    {
      "cell_type": "markdown",
      "source": [
        "## Features needed for a Route Optimization Model\n",
        "\n",
        "For now, I am focusing on Rides data, but I will investigate other data that is applicable to a route optimization model when time permits:\n",
        "\n",
        "- Traffic data\n",
        "- Events data\n",
        "- Weather data\n",
        "- Road network data\n",
        "- Fuel and energy consumption data\n",
        "- User or driver data\n",
        "\n"
      ],
      "metadata": {
        "id": "D0zjwFf2hbOi"
      }
    },
    {
      "cell_type": "markdown",
      "source": [
        "### Ride data attributes (target variables covered later in this notebook)\n",
        "\n",
        "1. Pickup and Drop-of Coordinates\n",
        "    - We have:\n",
        "        - `centroid_lon_PU`, `centroid_lat_PU`\n",
        "        - `centroid_lon_DO`, `centroid_lat_DO`\n",
        "    - The trouble is that these are not exact locations, but the centroids of large zones which will impact the accuracy of the model. There are ways to mitigate this problem:\n",
        "        1. Zone Adjacency: makes use of distance between centroids\n",
        "        2. Distance-Based Weighting: makes use of distance between centroids\n",
        "2. Latitude and Longitude for positions along the route\n",
        "    - We don't have this\n",
        "    - Ways to mitigate this problem:\n",
        "        - Use shortest path between start and end points\n",
        "            - ```python\n",
        "import osmnx as ox\n",
        "import networkx as nx\n",
        "# Download the road network for New York City\n",
        "G = ox.graph_from_place(\"New York City, New York, USA\", network_type='drive')\n",
        "# Define the coordinates for pickup and dropoff zone centroids\n",
        "pickup_coords = (40.730610, -73.935242)  # Example: Pickup at some NYC location\n",
        "dropoff_coords = (40.7128, -74.0060)  # Example: Dropoff in Manhattan\n",
        "# Find the nearest nodes in the road network\n",
        "pickup_node = ox.distance.nearest_nodes(G, X=pickup_coords[1], Y=pickup_coords[0])\n",
        "dropoff_node = ox.distance.nearest_nodes(G, X=dropoff_coords[1], Y=dropoff_coords[0])\n",
        "# Calculate the shortest path between the two nodes\n",
        "route = nx.shortest_path(G, pickup_node, dropoff_node, weight='length')\n",
        "# Plot the estimated route on the map\n",
        "ox.plot_graph_route(G, route, route_linewidth=2, node_size=0)\n",
        "```\n",
        "        - Incorporate Historical Traffic Patterns Between Zones\n",
        "            - This provides a baseline travel time estimate for specific zone pairs\n",
        "            - allows you to predict delays during peak hours or congestd\n",
        "            - ```python\n",
        "# Aggregate data to calculate average trip times by zone pair and time window\n",
        "taxi_data['pickup_hour'] = taxi_data['pickup_datetime'].dt.hour\n",
        "grouped = taxi_data.groupby(['PULocationID', 'DOLocationID', 'pickup_hour']).agg(\n",
        "    avg_trip_time=('trip_duration', 'mean')\n",
        ").reset_index()\n",
        "print(grouped.head())\n",
        "```\n",
        "        - Use External Traffic Data to Model In-Ride Dynamics\n",
        "            - ```python\n",
        "import googlemaps\n",
        "# Initialize the Google Maps API client\n",
        "gmaps = googlemaps.Client(key='YOUR_GOOGLE_MAPS_API_KEY')\n",
        "# Request travel time between two points\n",
        "directions = gmaps.directions(\"40.730610,-73.935242\", \"40.7128,-74.0060\", departure_time='now')\n",
        "# Extract the travel time from the response (in seconds)\n",
        "travel_time = directions[0]['legs'][0]['duration']['value'] / 60  # Convert to minutes\n",
        "print(f\"Estimated Travel Time: {travel_time} minutes\")\n",
        "```\n",
        "        - Use Graph-Based Models for Zone Pair Dynamics\n",
        "            - ```python\n",
        "import networkx as nx\n",
        "# Create a graph with zones as nodes and average travel time as edge weights\n",
        "G = nx.Graph()\n",
        "# Add nodes for each zone\n",
        "zones = taxi_data[['PULocationID', 'DOLocationID']].stack().unique()\n",
        "G.add_nodes_from(zones)\n",
        "# Add edges with average travel time between zones\n",
        "for _, row in grouped.iterrows():\n",
        "    G.add_edge(row['PULocationID'], row['DOLocationID'], weight=row['avg_trip_time'])\n",
        "# Find the shortest path (in terms of travel time) between two zones\n",
        "shortest_path = nx.shortest_path(G, source=1, target=2, weight='weight')\n",
        "print(f\"Shortest path based on travel time: {shortest_path}\")\n",
        "\n",
        "            ```\n",
        "3. Time stamps for when GPS data is captured\n",
        "    - We have this, but only for start and end points\n",
        "4. Number of Stoplights or Intersections\n",
        "    - We can probably find this"
      ],
      "metadata": {
        "id": "Dd2Oj0U-RwqB"
      }
    },
    {
      "cell_type": "markdown",
      "source": [
        "1. Pickup and Drop-off Coordinates:\n",
        "    \n",
        "\n"
      ],
      "metadata": {
        "id": "5HApCxssieqm"
      }
    },
    {
      "cell_type": "markdown",
      "source": [
        "2. Latitude and Longitude for postions along the route\n",
        "\n",
        "- We don't have this"
      ],
      "metadata": {
        "id": "m_o9pFGUEY7X"
      }
    },
    {
      "cell_type": "markdown",
      "source": [
        "3. Time stamps for when GPS data is captured\n",
        "    - We only have this for the pickup and drop-off times"
      ],
      "metadata": {
        "id": "Q_E8-nl-EZEn"
      }
    },
    {
      "cell_type": "markdown",
      "source": [
        "#### Euclidean Distance:\n",
        "\n",
        "Used for:\n",
        "\n",
        "1. Zone Adjacency\n",
        "2. Distance Based Weighting\n",
        "\n",
        "- Note that the dataset already has `trip_miles` field. I don't know exactly how this was obtained, but it is not exactly equal to the euclidean distance, which I have called `trip_miles_calculated`\n",
        "- For our purpose, I believe it is best to use `trip_miles_calculated`\n",
        "    - `trip_miles` is mismathed with the centroids\n",
        "    - `trip_miles` may be a better predictor for NYC, but our ultimate goal is not a model with predictive power in NYC\n",
        "    - `trip_miles_calculated` is more generalizable and transferable to other cities\n",
        "    - Ultimately, an effort should be made to collect exact pickup and dropoff locations in the future, in which case, this decision no longer matters"
      ],
      "metadata": {
        "id": "4daOmMQTV67V"
      }
    },
    {
      "cell_type": "code",
      "source": [
        "trips['trip_miles_calculated'] = euclidean_distance_miles(trips['centroid_lon_PU'],\n",
        "                                                          trips['centroid_lon_DO'],\n",
        "                                                          trips['centroid_lat_PU'],\n",
        "                                                          trips['centroid_lat_DO'])"
      ],
      "metadata": {
        "id": "67OoXFkImW9C"
      },
      "execution_count": 14,
      "outputs": []
    },
    {
      "cell_type": "code",
      "source": [
        "trips['trip_miles_calculated'].head()"
      ],
      "metadata": {
        "colab": {
          "base_uri": "https://localhost:8080/",
          "height": 241
        },
        "id": "zIeWO0Ty-eci",
        "outputId": "5e18036c-15f7-4cc8-c581-c8e89380787a"
      },
      "execution_count": 15,
      "outputs": [
        {
          "output_type": "execute_result",
          "data": {
            "text/plain": [
              "0    4.540892\n",
              "1    2.825206\n",
              "2    3.075012\n",
              "3    7.102568\n",
              "4    0.950297\n",
              "Name: trip_miles_calculated, dtype: float64"
            ],
            "text/html": [
              "<div>\n",
              "<style scoped>\n",
              "    .dataframe tbody tr th:only-of-type {\n",
              "        vertical-align: middle;\n",
              "    }\n",
              "\n",
              "    .dataframe tbody tr th {\n",
              "        vertical-align: top;\n",
              "    }\n",
              "\n",
              "    .dataframe thead th {\n",
              "        text-align: right;\n",
              "    }\n",
              "</style>\n",
              "<table border=\"1\" class=\"dataframe\">\n",
              "  <thead>\n",
              "    <tr style=\"text-align: right;\">\n",
              "      <th></th>\n",
              "      <th>trip_miles_calculated</th>\n",
              "    </tr>\n",
              "  </thead>\n",
              "  <tbody>\n",
              "    <tr>\n",
              "      <th>0</th>\n",
              "      <td>4.540892</td>\n",
              "    </tr>\n",
              "    <tr>\n",
              "      <th>1</th>\n",
              "      <td>2.825206</td>\n",
              "    </tr>\n",
              "    <tr>\n",
              "      <th>2</th>\n",
              "      <td>3.075012</td>\n",
              "    </tr>\n",
              "    <tr>\n",
              "      <th>3</th>\n",
              "      <td>7.102568</td>\n",
              "    </tr>\n",
              "    <tr>\n",
              "      <th>4</th>\n",
              "      <td>0.950297</td>\n",
              "    </tr>\n",
              "  </tbody>\n",
              "</table>\n",
              "</div><br><label><b>dtype:</b> float64</label>"
            ]
          },
          "metadata": {},
          "execution_count": 15
        }
      ]
    },
    {
      "cell_type": "code",
      "source": [
        "trips['trip_miles'].head()"
      ],
      "metadata": {
        "colab": {
          "base_uri": "https://localhost:8080/",
          "height": 241
        },
        "id": "tPWlBhVd-i8i",
        "outputId": "0e53c6fe-0e90-4947-8909-0aa4ef460868"
      },
      "execution_count": 16,
      "outputs": [
        {
          "output_type": "execute_result",
          "data": {
            "text/plain": [
              "0     8.84\n",
              "1     3.96\n",
              "2     5.61\n",
              "3    11.24\n",
              "4     1.60\n",
              "Name: trip_miles, dtype: float64"
            ],
            "text/html": [
              "<div>\n",
              "<style scoped>\n",
              "    .dataframe tbody tr th:only-of-type {\n",
              "        vertical-align: middle;\n",
              "    }\n",
              "\n",
              "    .dataframe tbody tr th {\n",
              "        vertical-align: top;\n",
              "    }\n",
              "\n",
              "    .dataframe thead th {\n",
              "        text-align: right;\n",
              "    }\n",
              "</style>\n",
              "<table border=\"1\" class=\"dataframe\">\n",
              "  <thead>\n",
              "    <tr style=\"text-align: right;\">\n",
              "      <th></th>\n",
              "      <th>trip_miles</th>\n",
              "    </tr>\n",
              "  </thead>\n",
              "  <tbody>\n",
              "    <tr>\n",
              "      <th>0</th>\n",
              "      <td>8.84</td>\n",
              "    </tr>\n",
              "    <tr>\n",
              "      <th>1</th>\n",
              "      <td>3.96</td>\n",
              "    </tr>\n",
              "    <tr>\n",
              "      <th>2</th>\n",
              "      <td>5.61</td>\n",
              "    </tr>\n",
              "    <tr>\n",
              "      <th>3</th>\n",
              "      <td>11.24</td>\n",
              "    </tr>\n",
              "    <tr>\n",
              "      <th>4</th>\n",
              "      <td>1.60</td>\n",
              "    </tr>\n",
              "  </tbody>\n",
              "</table>\n",
              "</div><br><label><b>dtype:</b> float64</label>"
            ]
          },
          "metadata": {},
          "execution_count": 16
        }
      ]
    },
    {
      "cell_type": "markdown",
      "source": [
        "## Target\n",
        "\n",
        "Given Use Case:\n",
        "\n",
        "AI-driven route optimization for drivers to minimize **travel time** and **fuel consumption** while **avoiding traffic congestion**. This enhances the user experience by\n",
        "ensuring quicker and more efficient rides.\n",
        "\n",
        "Given Input Data:\n",
        "\n",
        "GPS data, traffic reports, historical route performance, and road conditions."
      ],
      "metadata": {
        "id": "KKcGvc0z28Uj"
      }
    },
    {
      "cell_type": "markdown",
      "source": [
        "### Choosing the target\n",
        "\n",
        "Depends on the primary goal of the optimization model\n",
        "\n",
        "1. Travel Time: in minutes between pickup and destination\n",
        "    - This is the most common choice for route optimization\n",
        "2. Fuel Consumption: Estimated fuel consumption in litres or gallons\n",
        "    - This might not be possible without vehicle type\n",
        "3. Trip Cost or Fare: Fare charged or total cost\n",
        "\n",
        "Given the use case, 1. and 2. are most likely. It is also possible to combine these with composite scores. Some examples:\n",
        "- I need to do more research for this\n"
      ],
      "metadata": {
        "id": "mKYZ2hrZAFH9"
      }
    }
  ]
}